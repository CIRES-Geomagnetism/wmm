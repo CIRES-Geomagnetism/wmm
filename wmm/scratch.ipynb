{
 "cells": [
  {
   "cell_type": "code",
   "execution_count": 9,
   "metadata": {},
   "outputs": [
    {
     "ename": "ModuleNotFoundError",
     "evalue": "No module named 'geomaglib'",
     "output_type": "error",
     "traceback": [
      "\u001b[0;31m---------------------------------------------------------------------------\u001b[0m",
      "\u001b[0;31mModuleNotFoundError\u001b[0m                       Traceback (most recent call last)",
      "Cell \u001b[0;32mIn[9], line 3\u001b[0m\n\u001b[1;32m      1\u001b[0m \u001b[38;5;28;01mimport\u001b[39;00m \u001b[38;5;21;01mimportlib\u001b[39;00m\n\u001b[0;32m----> 3\u001b[0m \u001b[38;5;28;01mfrom\u001b[39;00m \u001b[38;5;21;01mbuild\u001b[39;00m \u001b[38;5;28;01mimport\u001b[39;00m wmm_calc\n\u001b[1;32m      4\u001b[0m importlib\u001b[38;5;241m.\u001b[39mreload(wmm_calc)\n",
      "File \u001b[0;32m~/Library/CloudStorage/OneDrive-UCB-O365/Desktop/testWMM_Numpy/wmm/wmm/build.py:8\u001b[0m\n\u001b[1;32m      6\u001b[0m import numpy as np\n\u001b[1;32m      7\u001b[0m \n\u001b[0;32m----> 8\u001b[0m from geomaglib import util, legendre, magmath, sh_vars, sh_loader\n\u001b[1;32m      9\u001b[0m # from wmm import load\n\u001b[1;32m     10\u001b[0m # from wmm import uncertainty\n",
      "\u001b[0;31mModuleNotFoundError\u001b[0m: No module named 'geomaglib'"
     ]
    }
   ],
   "source": [
    "import importlib\n",
    "\n",
    "from build import wmm_calc\n",
    "importlib.reload(wmm_calc)"
   ]
  },
  {
   "cell_type": "markdown",
   "metadata": {},
   "source": [
    "There are two sets of cases, each with both having 4 subcases.\n",
    "\n",
    "1) The first set of cases is just looking at position inputs.\n",
    "   - 1a) All position inputs are scalar (which will be transformed into length 1 numpy arrays)\n",
    "   - 1b) All position inputs are vectors (numpy arrays) of the same length\n",
    "   - 1c) Position inputs contain 1 vector, and the other two are scalar\n",
    "   - 1d) Position inputs contain 2 vectors, and one scalar.\n",
    "       - 1di) The vector pair have the same length\n",
    "       - 1dii) The vector pair have different lengths\n",
    "2) Year Month Day inputs of setup_time follow the same rules as setup_env with alt, lat, lon described in 1). \n",
    "3) The second set of cases involves the combination of the space and time inputs. For the purposes of this, time and spatial coordinates have already been through the processing of 1) and 2), so time and space (although containing multiple values) are considered to be either vector or scalar. \n",
    "   - 2a) If position is scalar and time is scalar\n",
    "   - 2b) If position is scalar and time is vector\n",
    "   - 2c) If position is vector and time is scalar\n",
    "   - 2d) If position is vector and time is vector"
   ]
  },
  {
   "cell_type": "code",
   "execution_count": 8,
   "metadata": {},
   "outputs": [
    {
     "ename": "NameError",
     "evalue": "name 'wmm_calc' is not defined",
     "output_type": "error",
     "traceback": [
      "\u001b[0;31m---------------------------------------------------------------------------\u001b[0m",
      "\u001b[0;31mNameError\u001b[0m                                 Traceback (most recent call last)",
      "Cell \u001b[0;32mIn[8], line 3\u001b[0m\n\u001b[1;32m      1\u001b[0m \u001b[38;5;66;03m#The cases are that alt, lat, lon (rtp) have\u001b[39;00m\n\u001b[1;32m      2\u001b[0m \u001b[38;5;66;03m#1a) All scalar\u001b[39;00m\n\u001b[0;32m----> 3\u001b[0m model \u001b[38;5;241m=\u001b[39m  wmm_calc()\n\u001b[1;32m      4\u001b[0m alt \u001b[38;5;241m=\u001b[39m \u001b[38;5;241m1\u001b[39m\n\u001b[1;32m      5\u001b[0m lat \u001b[38;5;241m=\u001b[39m \u001b[38;5;241m30\u001b[39m\n",
      "\u001b[0;31mNameError\u001b[0m: name 'wmm_calc' is not defined"
     ]
    }
   ],
   "source": [
    "#The cases are that alt, lat, lon (rtp) have\n",
    "#1a) All scalar\n",
    "model =  wmm_calc()\n",
    "alt = 1\n",
    "lat = 30\n",
    "lon = 60\n",
    "model.setup_env(alt,lat,lon)\n",
    "\n"
   ]
  },
  {
   "cell_type": "code",
   "execution_count": 2,
   "metadata": {},
   "outputs": [
    {
     "name": "stdout",
     "output_type": "stream",
     "text": [
      "-0.4480736161291702 -0.4480736161291702\n"
     ]
    }
   ],
   "source": [
    "import math\n",
    "import numpy as np\n",
    "print(math.cos(90), np.cos(90))"
   ]
  },
  {
   "cell_type": "code",
   "execution_count": 6,
   "metadata": {},
   "outputs": [
    {
     "name": "stdout",
     "output_type": "stream",
     "text": [
      "10 9\n",
      "[9]\n"
     ]
    }
   ],
   "source": [
    "a = np.arange(10)\n",
    "print(len(a),len(a[:-1]))\n",
    "print(a[np.where(a == 9)])"
   ]
  }
 ],
 "metadata": {
  "kernelspec": {
   "display_name": "base",
   "language": "python",
   "name": "python3"
  },
  "language_info": {
   "codemirror_mode": {
    "name": "ipython",
    "version": 3
   },
   "file_extension": ".py",
   "mimetype": "text/x-python",
   "name": "python",
   "nbconvert_exporter": "python",
   "pygments_lexer": "ipython3",
   "version": "3.11.6"
  }
 },
 "nbformat": 4,
 "nbformat_minor": 2
}
